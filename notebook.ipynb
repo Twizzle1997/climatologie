{
 "metadata": {
  "language_info": {
   "codemirror_mode": {
    "name": "ipython",
    "version": 3
   },
   "file_extension": ".py",
   "mimetype": "text/x-python",
   "name": "python",
   "nbconvert_exporter": "python",
   "pygments_lexer": "ipython3",
   "version": "3.7.9-final"
  },
  "orig_nbformat": 2,
  "kernelspec": {
   "name": "python3",
   "display_name": "Python 3.7.9 64-bit ('data-science': conda)",
   "metadata": {
    "interpreter": {
     "hash": "d1299f6780e3cbdedf1411f538f089ac858b183dda4c8823b06d05ab627402c9"
    }
   }
  }
 },
 "nbformat": 4,
 "nbformat_minor": 2,
 "cells": [
  {
   "source": [
    "# Une climatologie et au lit"
   ],
   "cell_type": "markdown",
   "metadata": {}
  },
  {
   "source": [
    "## Imports de l'application"
   ],
   "cell_type": "markdown",
   "metadata": {}
  },
  {
   "cell_type": "code",
   "execution_count": 2,
   "metadata": {},
   "outputs": [],
   "source": [
    "import pandas as pd\n",
    "import numpy as np\n",
    "\n",
    "from modules.data_loader import DataSpliter\n",
    "\n",
    "%load_ext autoreload\n",
    "%autoreload 2"
   ]
  },
  {
   "source": [
    "## Paramètres de l'application"
   ],
   "cell_type": "markdown",
   "metadata": {}
  },
  {
   "cell_type": "code",
   "execution_count": 3,
   "metadata": {},
   "outputs": [],
   "source": [
    "dataset_name = 'temperatures.csv'\n",
    "DATA_PATH = 'data/'\n",
    "DATASET_PATH = DATA_PATH + dataset_name\n",
    "CURATED_PATH = DATA_PATH + 'curated/'\n",
    "COUNTRY = CURATED_PATH + 'country/'\n",
    "REGION = CURATED_PATH + 'region/'\n",
    "\n",
    "data_spliter = DataSpliter()"
   ]
  },
  {
   "cell_type": "code",
   "execution_count": 5,
   "metadata": {},
   "outputs": [
    {
     "output_type": "stream",
     "name": "stdout",
     "text": [
      "temperatures.csv importé avec succès.\n"
     ]
    }
   ],
   "source": [
    "global_dataset = pd.read_csv(DATASET_PATH, sep=',', encoding='utf-8')\n",
    "print(dataset_name, \"importé avec succès.\")"
   ]
  },
  {
   "source": [
    "## 1. Les températures moyennes françaises de 1995 à 2019"
   ],
   "cell_type": "markdown",
   "metadata": {}
  },
  {
   "source": [
    "## 2. L'évolution moyenne de la témparature chaque mois de l'année (sur toutes les années donc) de chaque région du globe (à l'aide de subplots, soit plusieurs diagramme sur un seul affichage)"
   ],
   "cell_type": "markdown",
   "metadata": {}
  },
  {
   "source": [
    "## 3. Le classement graphique des pays les plus chauds au monde"
   ],
   "cell_type": "markdown",
   "metadata": {}
  },
  {
   "source": [
    "## 4. Le classement graphique des pays les plus froids au monde"
   ],
   "cell_type": "markdown",
   "metadata": {}
  },
  {
   "source": [
    "## 5. L'évolution des températures entre le pays le plus chaud et le pays le plus froid de 1995 à 2019 sur un même graphique"
   ],
   "cell_type": "markdown",
   "metadata": {}
  },
  {
   "source": [
    "## 6. L'évolution de la température moyenne de la ville de Paris."
   ],
   "cell_type": "markdown",
   "metadata": {}
  },
  {
   "source": [
    "## 7. La température moyenne de chaque pays sur une carte sur la période 2010-2019"
   ],
   "cell_type": "markdown",
   "metadata": {}
  }
 ]
}