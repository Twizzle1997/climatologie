{
 "metadata": {
  "language_info": {
   "codemirror_mode": {
    "name": "ipython",
    "version": 3
   },
   "file_extension": ".py",
   "mimetype": "text/x-python",
   "name": "python",
   "nbconvert_exporter": "python",
   "pygments_lexer": "ipython3",
   "version": "3.7.9-final"
  },
  "orig_nbformat": 2,
  "kernelspec": {
   "name": "python3",
   "display_name": "Python 3.7.9 64-bit ('data-science': conda)",
   "metadata": {
    "interpreter": {
     "hash": "d1299f6780e3cbdedf1411f538f089ac858b183dda4c8823b06d05ab627402c9"
    }
   }
  }
 },
 "nbformat": 4,
 "nbformat_minor": 2,
 "cells": [
  {
   "source": [
    "# Une climatologie et au lit"
   ],
   "cell_type": "markdown",
   "metadata": {}
  },
  {
   "source": [
    "## Imports de l'application"
   ],
   "cell_type": "markdown",
   "metadata": {}
  },
  {
   "cell_type": "code",
   "execution_count": 1,
   "metadata": {},
   "outputs": [],
   "source": [
    "import pandas as pd\n",
    "import numpy as np\n",
    "\n",
    "from modules.data_loader import DataSpliter\n",
    "\n",
    "%load_ext autoreload\n",
    "%autoreload 2"
   ]
  },
  {
   "source": [
    "## Paramètres de l'application"
   ],
   "cell_type": "markdown",
   "metadata": {}
  },
  {
   "cell_type": "code",
   "execution_count": 32,
   "metadata": {},
   "outputs": [],
   "source": [
    "dataset_name = 'temperatures.csv'\n",
    "filtered_dataset_name = 'filtered_temperatures.csv'\n",
    "DATA_PATH = 'data/'\n",
    "DATASET_PATH = DATA_PATH + dataset_name\n",
    "FILTERED_DATASET_PATH = DATA_PATH + filtered_dataset_name\n",
    "CURATED_PATH = DATA_PATH + 'curated/'\n",
    "COUNTRY = CURATED_PATH + 'country/'\n",
    "REGION = CURATED_PATH + 'region/'\n",
    "\n",
    "data_spliter = DataSpliter()"
   ]
  },
  {
   "source": [
    "## Import et filtrage du dataset général"
   ],
   "cell_type": "markdown",
   "metadata": {}
  },
  {
   "cell_type": "code",
   "execution_count": 25,
   "metadata": {},
   "outputs": [
    {
     "output_type": "stream",
     "name": "stdout",
     "text": [
      "temperatures.csv importé avec succès.\n<class 'pandas.core.frame.DataFrame'>\nRangeIndex: 2906327 entries, 0 to 2906326\nData columns (total 8 columns):\n #   Column          Dtype  \n---  ------          -----  \n 0   Region          object \n 1   Country         object \n 2   State           object \n 3   City            object \n 4   Month           int64  \n 5   Day             int64  \n 6   Year            int64  \n 7   AvgTemperature  float64\ndtypes: float64(1), int64(3), object(4)\nmemory usage: 177.4+ MB\nNone\n"
     ]
    }
   ],
   "source": [
    "global_dataset = pd.read_csv(DATASET_PATH, sep=',', encoding='utf-8')\n",
    "print(dataset_name, \"importé avec succès.\")\n",
    "print (global_dataset.info())"
   ]
  },
  {
   "cell_type": "code",
   "execution_count": 26,
   "metadata": {},
   "outputs": [],
   "source": [
    "global_dataset[['Region', 'Country', 'State', 'City']] = global_dataset[['Region', 'Country', 'State', 'City']].astype('string')"
   ]
  },
  {
   "cell_type": "code",
   "execution_count": 27,
   "metadata": {},
   "outputs": [
    {
     "output_type": "stream",
     "name": "stdout",
     "text": [
      "Il y a  0  valeurs nulles dans la colonne 'Region'.\n",
      "Il y a  0  valeurs nulles dans la colonne 'Country'.\n",
      "Il y a  0  valeurs nulles dans la colonne 'City'.\n",
      "Il y a  0  valeurs nulles dans la colonne 'Month'.\n",
      "Il y a  0  valeurs nulles dans la colonne 'Day'.\n",
      "Il y a  0  valeurs nulles dans la colonne 'Year'.\n",
      "Il y a  0  valeurs nulles dans la colonne 'AvgTemperature'.\n"
     ]
    }
   ],
   "source": [
    "nancount = global_dataset[\"Region\"].isna()\n",
    "print (\"Il y a \", nancount.sum(), \" valeurs nulles dans la colonne \\'Region\\'.\")\n",
    "nancount = global_dataset[\"Country\"].isna()\n",
    "print (\"Il y a \", nancount.sum(), \" valeurs nulles dans la colonne \\'Country\\'.\")\n",
    "nancount = global_dataset[\"City\"].isna()\n",
    "print (\"Il y a \", nancount.sum(), \" valeurs nulles dans la colonne \\'City\\'.\")\n",
    "nancount = global_dataset[\"Month\"].isna()\n",
    "print (\"Il y a \", nancount.sum(), \" valeurs nulles dans la colonne \\'Month\\'.\")\n",
    "nancount = global_dataset[\"Day\"].isna()\n",
    "print (\"Il y a \", nancount.sum(), \" valeurs nulles dans la colonne \\'Day\\'.\")\n",
    "nancount = global_dataset[\"Year\"].isna()\n",
    "print (\"Il y a \", nancount.sum(), \" valeurs nulles dans la colonne \\'Year\\'.\")\n",
    "nancount = global_dataset[\"AvgTemperature\"].isna()\n",
    "print (\"Il y a \", nancount.sum(), \" valeurs nulles dans la colonne \\'AvgTemperature\\'.\")"
   ]
  },
  {
   "cell_type": "code",
   "execution_count": 28,
   "metadata": {},
   "outputs": [
    {
     "output_type": "stream",
     "name": "stdout",
     "text": [
      "Nombre d'enregistrements dont l'année est inférieure à 1995 :  440\n"
     ]
    }
   ],
   "source": [
    "print(\"Nombre d'enregistrements dont l'année est inférieure à 1995 : \", global_dataset['Year'][global_dataset['Year']<1995].count())"
   ]
  },
  {
   "cell_type": "code",
   "execution_count": 29,
   "metadata": {},
   "outputs": [
    {
     "output_type": "stream",
     "name": "stdout",
     "text": [
      "Nombre d'enregistrements dont l'année est inférieure à 1995 :  0\n"
     ]
    }
   ],
   "source": [
    "global_dataset = global_dataset[global_dataset['Year']>1994]\n",
    "print(\"Nombre d'enregistrements dont l'année est inférieure à 1995 : \", global_dataset['Year'][global_dataset['Year']<1995].count())"
   ]
  },
  {
   "cell_type": "code",
   "execution_count": 30,
   "metadata": {},
   "outputs": [],
   "source": [
    "# Conversion °F en °C\n",
    "global_dataset['AvgTemperature'] = (global_dataset['AvgTemperature'] - 32)/1.8"
   ]
  },
  {
   "cell_type": "code",
   "execution_count": 31,
   "metadata": {},
   "outputs": [],
   "source": [
    "# Export en CSV\n",
    "global_dataset.to_csv(DATA_PATH + 'filtered_temperatures.csv')"
   ]
  },
  {
   "source": [
    "## Récupération du jeu filtré (pour ne pas refaire le filtrage)"
   ],
   "cell_type": "markdown",
   "metadata": {}
  },
  {
   "cell_type": "code",
   "execution_count": null,
   "metadata": {},
   "outputs": [],
   "source": [
    "global_dataset = pd.read_csv(DATA_PATH + , sep=',', encoding='utf-8')"
   ]
  },
  {
   "source": [
    "## 1. Les températures moyennes françaises de 1995 à 2019"
   ],
   "cell_type": "markdown",
   "metadata": {}
  },
  {
   "source": [
    "## 2. L'évolution moyenne de la témparature chaque mois de l'année (sur toutes les années donc) de chaque région du globe (à l'aide de subplots, soit plusieurs diagramme sur un seul affichage)"
   ],
   "cell_type": "markdown",
   "metadata": {}
  },
  {
   "source": [
    "## 3. Le classement graphique des pays les plus chauds au monde"
   ],
   "cell_type": "markdown",
   "metadata": {}
  },
  {
   "source": [
    "## 4. Le classement graphique des pays les plus froids au monde"
   ],
   "cell_type": "markdown",
   "metadata": {}
  },
  {
   "source": [
    "## 5. L'évolution des températures entre le pays le plus chaud et le pays le plus froid de 1995 à 2019 sur un même graphique"
   ],
   "cell_type": "markdown",
   "metadata": {}
  },
  {
   "source": [
    "## 6. L'évolution de la température moyenne de la ville de Paris."
   ],
   "cell_type": "markdown",
   "metadata": {}
  },
  {
   "source": [
    "## 7. La température moyenne de chaque pays sur une carte sur la période 2010-2019"
   ],
   "cell_type": "markdown",
   "metadata": {}
  }
 ]
}